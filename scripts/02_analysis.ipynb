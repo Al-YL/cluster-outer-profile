{
 "cells": [
  {
   "cell_type": "code",
   "execution_count": 1,
   "id": "785cf4bf",
   "metadata": {},
   "outputs": [
    {
     "name": "stderr",
     "output_type": "stream",
     "text": [
      "/Users/zhengyunliang/opt/anaconda3/lib/python3.9/site-packages/scipy/__init__.py:146: UserWarning: A NumPy version >=1.16.5 and <1.23.0 is required for this version of SciPy (detected version 1.26.4\n",
      "  warnings.warn(f\"A NumPy version >={np_minversion} and <{np_maxversion}\"\n"
     ]
    }
   ],
   "source": [
    "import numpy as np\n",
    "import os,math,random\n",
    "from matplotlib import pyplot as plt\n",
    "from scipy.stats import binned_statistic, binned_statistic_2d\n",
    "from astropy.table import Table, vstack\n",
    "from astropy.cosmology import FlatLambdaCDM, z_at_value\n",
    "from astropy import units as u\n",
    "from astropy.constants import k_B, m_p, G, M_sun\n",
    "from astropy.io import fits\n",
    "from astropy.coordinates import SkyCoord\n",
    "from astropy.wcs import WCS\n",
    "from gdpyc import GasMap, DustMap\n",
    "import time\n",
    "import pandas as pd"
   ]
  },
  {
   "cell_type": "code",
   "execution_count": 2,
   "id": "25a3bb34",
   "metadata": {},
   "outputs": [],
   "source": [
    "cosmo = FlatLambdaCDM(Om0=0.315,H0=100)"
   ]
  },
  {
   "cell_type": "code",
   "execution_count": 3,
   "id": "623a6cfe",
   "metadata": {},
   "outputs": [],
   "source": [
    "Cens = Table.read('../data/DESI/CensACT.fits')\n",
    "Cens['R180'] = (((10**Cens['logMh']*M_sun)/(4*np.pi/3*180*cosmo.Om(0)*3*(cosmo.H0**2)/(8*np.pi*G)))**(1./3)).to('kpc')/(1+Cens['z'])\n",
    "Cens['R180_ang'] = Cens['R180']/cosmo.angular_diameter_distance(Cens['z']).to('kpc')\n",
    "\n",
    "bcg_pos = SkyCoord(Cens['ra']*u.deg, Cens['dec']*u.deg)\n",
    "xry_pos = SkyCoord(Cens['RA_X']*u.deg, Cens['DEC_X']*u.deg)\n",
    "luw_pos = SkyCoord(Cens['ragroup']*u.deg, Cens['decgroup']*u.deg)"
   ]
  },
  {
   "cell_type": "code",
   "execution_count": 4,
   "id": "c97cf48e",
   "metadata": {},
   "outputs": [],
   "source": [
    "def create_circular_mask(h, w, center=None, radius=None):\n",
    "    if center is None: # use the middle of the image\n",
    "        center = (int(w/2), int(h/2))\n",
    "    if radius is None: # use the smallest distance between the center and image walls\n",
    "        radius = min(center[0], center[1], w-center[0], h-center[1])\n",
    "    Y, X = np.ogrid[:h, :w]\n",
    "    dist_from_center = np.sqrt((X - center[0])**2 + (Y - center[1])**2)\n",
    "    mask = dist_from_center <= radius\n",
    "    return mask"
   ]
  },
  {
   "cell_type": "markdown",
   "id": "b2ab3043",
   "metadata": {},
   "source": [
    "## $2 \\times 2$ bins in $M_h$ and Redshift Spaces"
   ]
  },
  {
   "cell_type": "code",
   "execution_count": 5,
   "id": "8e2fbf6a",
   "metadata": {},
   "outputs": [],
   "source": [
    "step = 0.5\n",
    "mbins = np.arange(14,15.1,step)\n",
    "layers = 2\n",
    "\n",
    "r180_min = np.zeros((2,len(mbins)-1))\n",
    "r180_med = np.zeros((2,len(mbins)-1))\n",
    "r180_max = np.zeros((2,len(mbins)-1))\n",
    "r180_min_ang = np.zeros((2,len(mbins)-1))\n",
    "r180_med_ang = np.zeros((2,len(mbins)-1))\n",
    "r180_max_ang = np.zeros((2,len(mbins)-1))\n",
    "\n",
    "for zz in range(2):\n",
    "    for mm in range(len(mbins)-1):\n",
    "        r180_min[zz,mm] = (((10**mbins[mm]*M_sun)/(4*np.pi/3*180*cosmo.Om(0)*3*cosmo.H0**2/(8*np.pi*G)))**(1./3)).to('kpc').value/(1+0.5*(zz+1))\n",
    "        r180_med[zz,mm] = (((10**((mbins[mm]+mbins[mm+1])/2)*M_sun)/(4*np.pi/3*180*cosmo.Om(0)*3*cosmo.H0**2/(8*np.pi*G)))**(1./3)).to('kpc').value/(1+0.5*(zz+0.5))\n",
    "        r180_max[zz,mm] = (((10**(mbins[mm+1])*M_sun)/(4*np.pi/3*180*cosmo.Om(0)*3*cosmo.H0**2/(8*np.pi*G)))**(1./3)).to('kpc').value/(1+0.5*zz)\n",
    "        r180_min_ang[zz,mm] = r180_min[zz,mm]/cosmo.angular_diameter_distance(0.25+0.5*zz).to('kpc').value\n",
    "        r180_med_ang[zz,mm] = r180_med[zz,mm]/cosmo.angular_diameter_distance(0.25+0.5*zz).to('kpc').value\n",
    "        r180_max_ang[zz,mm] = r180_max[zz,mm]/cosmo.angular_diameter_distance(0.25+0.5*zz).to('kpc').value"
   ]
  },
  {
   "cell_type": "markdown",
   "id": "9a4f6822",
   "metadata": {},
   "source": [
    "## eROSITA Tiles Info"
   ]
  },
  {
   "cell_type": "code",
   "execution_count": 7,
   "id": "2e77fe8d",
   "metadata": {},
   "outputs": [],
   "source": [
    "tiles = fits.open('../data/eROSITA/SKYMAPS_052022_MPE.fits')\n",
    "tlt_select = Table(tiles[1].data)\n",
    "# l_ = elt.transform_to('galactic').l.to('deg').value\n",
    "elt_sel = SkyCoord(tlt_select['RA_CEN']*u.deg,tlt_select['DE_CEN']*u.deg)\n",
    "\n",
    "Emin, Emax = 0.5, 2\n",
    "zoom, zoom2 = 0.5, 4\n",
    "\n",
    "idx_srv, d2d_srv, d3d_srv = xry_pos.match_to_catalog_sky(elt_sel)\n",
    "srv_n = [i for i in set(tlt_select['SRVMAP'][idx_srv])]"
   ]
  },
  {
   "cell_type": "code",
   "execution_count": 9,
   "id": "3db1eb32",
   "metadata": {},
   "outputs": [
    {
     "data": {
      "text/plain": [
       "(798, 73348)"
      ]
     },
     "execution_count": 9,
     "metadata": {},
     "output_type": "execute_result"
    }
   ],
   "source": [
    "len(srv_n), len(Cens)"
   ]
  },
  {
   "cell_type": "code",
   "execution_count": 10,
   "id": "f0e0cd61",
   "metadata": {},
   "outputs": [],
   "source": [
    "def tlnm_name(tlnm_):\n",
    "    if len(tlnm_) == 5:\n",
    "        tlnm_ = '0'+tlnm_\n",
    "    elif len(tlnm_) == 4:\n",
    "        tlnm_ = '00'+tlnm_\n",
    "    elif len(tlnm_) == 3:\n",
    "        tlnm_ = '000'+tlnm_\n",
    "    return tlnm_\n",
    "\n",
    "def rescale_(mskk, ima_size):\n",
    "    f_mc = interpolate.interp2d(np.arange(mskk.shape[1]), np.arange(mskk.shape[0]), mskk, kind='linear')\n",
    "    mskk_rebin = f_mc(np.linspace(0, mskk.shape[1], ima_size), np.linspace(0, mskk.shape[1], ima_size))\n",
    "    mskk_rebin[mskk_rebin>=0.5] = 1\n",
    "    mskk_rebin[mskk_rebin<0.5] = 0\n",
    "    return mskk_rebin\n",
    "\n",
    "def mask_conta(tabs,detmsk,xx,yy,R_ang,xxs,yys,rrs):\n",
    "    msk_id = np.ones(len(tabs))\n",
    "    if len(rrs) > 0:\n",
    "        mask_sources = []\n",
    "        for s in range(len(rrs)):\n",
    "            mask_sj = create_circular_mask(detmsk.shape[0], detmsk.shape[1], \n",
    "                                           center=((xxs[s]-xx+R_ang*2), (yys[s]-yy+R_ang*2)),\n",
    "                                           radius=(rrs[s]/4+30/4))\n",
    "            mask_sources.append(mask_sj)\n",
    "            msk_id[np.sqrt((tabs['xx']-xxs[s])**2+(tabs['yy']-yys[s])**2)<(rrs[s]/4+30/4)] = 0\n",
    "        mask_contamination = 1 - np.sum(np.array(mask_sources), axis=0)\n",
    "        mask_contamination[mask_contamination < 1] = 0\n",
    "    else:\n",
    "        mask_contamination = np.ones((detmsk.shape[0], detmsk.shape[1]))\n",
    "    return msk_id, mask_contamination"
   ]
  },
  {
   "cell_type": "markdown",
   "id": "d5433a98",
   "metadata": {},
   "source": [
    "# Image Stacking"
   ]
  },
  {
   "cell_type": "code",
   "execution_count": 12,
   "id": "01872088",
   "metadata": {},
   "outputs": [],
   "source": [
    "repeat_ = 51\n",
    "\n",
    "pure_count = [[[[[]for i in range(2)] for i in range(2)] for i in range(layers)] for i in range(repeat_)]\n",
    "weighted_count = [[[[[]for i in range(2)] for i in range(2)] for i in range(layers)] for i in range(repeat_)]\n",
    "mask_ima = [[[[[]for i in range(2)] for i in range(2)] for i in range(layers)] for i in range(repeat_)]\n",
    "\n",
    "pure_count_sat = [[[[[]for i in range(2)] for i in range(2)] for i in range(layers)] for i in range(repeat_)]\n",
    "weighted_count_sat = [[[[[]for i in range(2)] for i in range(2)] for i in range(layers)] for i in range(repeat_)]\n",
    "mask_ima_sat = [[[[[]for i in range(2)] for i in range(2)] for i in range(layers)] for i in range(repeat_)]\n",
    "\n",
    "pure_count_sat_bq = [[[[[]for i in range(2)] for i in range(2)] for i in range(layers)] for i in range(repeat_)]\n",
    "weighted_count_sat_bq = [[[[[]for i in range(2)] for i in range(2)] for i in range(layers)] for i in range(repeat_)]\n",
    "mask_ima_sat_bq = [[[[[]for i in range(2)] for i in range(2)] for i in range(layers)] for i in range(repeat_)]"
   ]
  },
  {
   "cell_type": "code",
   "execution_count": 13,
   "id": "bfa1e799",
   "metadata": {},
   "outputs": [],
   "source": [
    "for hh in range(repeat_):\n",
    "    for ii in range(layers):\n",
    "        for jj in range(2):\n",
    "            for kk in range(len(mbins)-1):\n",
    "                ima_size = int(r180_med_ang[jj,kk]*180/np.pi*60*15/zoom)*4\n",
    "                pure_count[hh][ii][jj][kk] = np.zeros((ima_size,ima_size))\n",
    "                weighted_count[hh][ii][jj][kk] = np.zeros((ima_size,ima_size))\n",
    "                mask_ima[hh][ii][jj][kk] = np.zeros((ima_size,ima_size))\n",
    "                pure_count_sat[hh][ii][jj][kk] = np.zeros((ima_size,ima_size))\n",
    "                weighted_count_sat[hh][ii][jj][kk] = np.zeros((ima_size,ima_size))\n",
    "                mask_ima_sat[hh][ii][jj][kk] = np.zeros((ima_size,ima_size))\n",
    "                pure_count_sat_bq[hh][ii][jj][kk] = np.zeros((ima_size,ima_size))\n",
    "                weighted_count_sat_bq[hh][ii][jj][kk] = np.zeros((ima_size,ima_size))\n",
    "                mask_ima_sat_bq[hh][ii][jj][kk] = np.zeros((ima_size,ima_size))"
   ]
  },
  {
   "cell_type": "code",
   "execution_count": null,
   "id": "8dcb5976",
   "metadata": {},
   "outputs": [],
   "source": []
  }
 ],
 "metadata": {
  "kernelspec": {
   "display_name": "Python 3 (ipykernel)",
   "language": "python",
   "name": "python3"
  },
  "language_info": {
   "codemirror_mode": {
    "name": "ipython",
    "version": 3
   },
   "file_extension": ".py",
   "mimetype": "text/x-python",
   "name": "python",
   "nbconvert_exporter": "python",
   "pygments_lexer": "ipython3",
   "version": "3.9.7"
  }
 },
 "nbformat": 4,
 "nbformat_minor": 5
}
